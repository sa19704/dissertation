{
 "cells": [
  {
   "cell_type": "code",
   "execution_count": 72,
   "metadata": {},
   "outputs": [],
   "source": [
    "import numpy as np\n",
    "import pandas as pd\n",
    "import matplotlib.pyplot as plt\n",
    "import os\n",
    "import tensorflow as tf"
   ]
  },
  {
   "cell_type": "code",
   "execution_count": 73,
   "metadata": {},
   "outputs": [
    {
     "data": {
      "text/html": [
       "<div>\n",
       "<style scoped>\n",
       "    .dataframe tbody tr th:only-of-type {\n",
       "        vertical-align: middle;\n",
       "    }\n",
       "\n",
       "    .dataframe tbody tr th {\n",
       "        vertical-align: top;\n",
       "    }\n",
       "\n",
       "    .dataframe thead th {\n",
       "        text-align: right;\n",
       "    }\n",
       "</style>\n",
       "<table border=\"1\" class=\"dataframe\">\n",
       "  <thead>\n",
       "    <tr style=\"text-align: right;\">\n",
       "      <th></th>\n",
       "      <th>S&amp;P</th>\n",
       "      <th>1YTBILL</th>\n",
       "      <th>3MTBILL</th>\n",
       "      <th>6MTBILL</th>\n",
       "      <th>OILB</th>\n",
       "      <th>OILT</th>\n",
       "      <th>FED</th>\n",
       "      <th>USD/EUR</th>\n",
       "      <th>GOLD</th>\n",
       "      <th>USD/CNY</th>\n",
       "      <th>USD/GBP</th>\n",
       "    </tr>\n",
       "    <tr>\n",
       "      <th>Date</th>\n",
       "      <th></th>\n",
       "      <th></th>\n",
       "      <th></th>\n",
       "      <th></th>\n",
       "      <th></th>\n",
       "      <th></th>\n",
       "      <th></th>\n",
       "      <th></th>\n",
       "      <th></th>\n",
       "      <th></th>\n",
       "      <th></th>\n",
       "    </tr>\n",
       "  </thead>\n",
       "  <tbody>\n",
       "    <tr>\n",
       "      <th>2009-01-02</th>\n",
       "      <td>931.799988</td>\n",
       "      <td>0.38</td>\n",
       "      <td>0.08</td>\n",
       "      <td>0.28</td>\n",
       "      <td>42.94</td>\n",
       "      <td>46.17</td>\n",
       "      <td>0.08</td>\n",
       "      <td>0.7176</td>\n",
       "      <td>869.75</td>\n",
       "      <td>6.80</td>\n",
       "      <td>0.6896</td>\n",
       "    </tr>\n",
       "    <tr>\n",
       "      <th>2009-01-05</th>\n",
       "      <td>927.450012</td>\n",
       "      <td>0.41</td>\n",
       "      <td>0.14</td>\n",
       "      <td>0.32</td>\n",
       "      <td>45.84</td>\n",
       "      <td>48.61</td>\n",
       "      <td>0.11</td>\n",
       "      <td>0.7334</td>\n",
       "      <td>860.00</td>\n",
       "      <td>6.82</td>\n",
       "      <td>0.6865</td>\n",
       "    </tr>\n",
       "    <tr>\n",
       "      <th>2009-01-06</th>\n",
       "      <td>934.700012</td>\n",
       "      <td>0.42</td>\n",
       "      <td>0.14</td>\n",
       "      <td>0.31</td>\n",
       "      <td>48.89</td>\n",
       "      <td>48.56</td>\n",
       "      <td>0.09</td>\n",
       "      <td>0.7476</td>\n",
       "      <td>844.00</td>\n",
       "      <td>6.83</td>\n",
       "      <td>0.6809</td>\n",
       "    </tr>\n",
       "  </tbody>\n",
       "</table>\n",
       "</div>"
      ],
      "text/plain": [
       "                   S&P  1YTBILL  3MTBILL  6MTBILL   OILB   OILT   FED  \\\n",
       "Date                                                                    \n",
       "2009-01-02  931.799988     0.38     0.08     0.28  42.94  46.17  0.08   \n",
       "2009-01-05  927.450012     0.41     0.14     0.32  45.84  48.61  0.11   \n",
       "2009-01-06  934.700012     0.42     0.14     0.31  48.89  48.56  0.09   \n",
       "\n",
       "            USD/EUR    GOLD  USD/CNY  USD/GBP  \n",
       "Date                                           \n",
       "2009-01-02   0.7176  869.75     6.80   0.6896  \n",
       "2009-01-05   0.7334  860.00     6.82   0.6865  \n",
       "2009-01-06   0.7476  844.00     6.83   0.6809  "
      ]
     },
     "execution_count": 73,
     "metadata": {},
     "output_type": "execute_result"
    }
   ],
   "source": [
    "# import data ,I have collected data from different resources and then put them in one file\n",
    "data=pd.read_csv('S&P.csv',index_col=0,parse_dates=True,na_values=[\"\",\".\",\"0\",\"null\"])\n",
    "data.head(3)"
   ]
  },
  {
   "cell_type": "code",
   "execution_count": 74,
   "metadata": {},
   "outputs": [
    {
     "data": {
      "text/html": [
       "<div>\n",
       "<style scoped>\n",
       "    .dataframe tbody tr th:only-of-type {\n",
       "        vertical-align: middle;\n",
       "    }\n",
       "\n",
       "    .dataframe tbody tr th {\n",
       "        vertical-align: top;\n",
       "    }\n",
       "\n",
       "    .dataframe thead th {\n",
       "        text-align: right;\n",
       "    }\n",
       "</style>\n",
       "<table border=\"1\" class=\"dataframe\">\n",
       "  <thead>\n",
       "    <tr style=\"text-align: right;\">\n",
       "      <th></th>\n",
       "      <th>S&amp;P</th>\n",
       "      <th>1YTBILL</th>\n",
       "      <th>3MTBILL</th>\n",
       "      <th>6MTBILL</th>\n",
       "      <th>OILB</th>\n",
       "      <th>OILT</th>\n",
       "      <th>FED</th>\n",
       "      <th>USD/EUR</th>\n",
       "      <th>GOLD</th>\n",
       "      <th>USD/CNY</th>\n",
       "      <th>USD/GBP</th>\n",
       "    </tr>\n",
       "  </thead>\n",
       "  <tbody>\n",
       "    <tr>\n",
       "      <th>S&amp;P</th>\n",
       "      <td>1.000000</td>\n",
       "      <td>0.772188</td>\n",
       "      <td>0.786958</td>\n",
       "      <td>0.785081</td>\n",
       "      <td>-0.401122</td>\n",
       "      <td>-0.447292</td>\n",
       "      <td>0.801194</td>\n",
       "      <td>0.738190</td>\n",
       "      <td>-0.002773</td>\n",
       "      <td>0.178569</td>\n",
       "      <td>0.742263</td>\n",
       "    </tr>\n",
       "    <tr>\n",
       "      <th>1YTBILL</th>\n",
       "      <td>0.772188</td>\n",
       "      <td>1.000000</td>\n",
       "      <td>0.984906</td>\n",
       "      <td>0.994850</td>\n",
       "      <td>-0.410710</td>\n",
       "      <td>-0.451536</td>\n",
       "      <td>0.971776</td>\n",
       "      <td>0.513974</td>\n",
       "      <td>-0.130463</td>\n",
       "      <td>0.526192</td>\n",
       "      <td>0.778590</td>\n",
       "    </tr>\n",
       "    <tr>\n",
       "      <th>3MTBILL</th>\n",
       "      <td>0.786958</td>\n",
       "      <td>0.984906</td>\n",
       "      <td>1.000000</td>\n",
       "      <td>0.996555</td>\n",
       "      <td>-0.329345</td>\n",
       "      <td>-0.378659</td>\n",
       "      <td>0.994356</td>\n",
       "      <td>0.490485</td>\n",
       "      <td>-0.033128</td>\n",
       "      <td>0.502027</td>\n",
       "      <td>0.763354</td>\n",
       "    </tr>\n",
       "    <tr>\n",
       "      <th>6MTBILL</th>\n",
       "      <td>0.785081</td>\n",
       "      <td>0.994850</td>\n",
       "      <td>0.996555</td>\n",
       "      <td>1.000000</td>\n",
       "      <td>-0.370364</td>\n",
       "      <td>-0.417303</td>\n",
       "      <td>0.987697</td>\n",
       "      <td>0.507199</td>\n",
       "      <td>-0.073953</td>\n",
       "      <td>0.511921</td>\n",
       "      <td>0.775645</td>\n",
       "    </tr>\n",
       "    <tr>\n",
       "      <th>OILB</th>\n",
       "      <td>-0.401122</td>\n",
       "      <td>-0.410710</td>\n",
       "      <td>-0.329345</td>\n",
       "      <td>-0.370364</td>\n",
       "      <td>1.000000</td>\n",
       "      <td>0.973713</td>\n",
       "      <td>-0.341094</td>\n",
       "      <td>-0.711878</td>\n",
       "      <td>0.643472</td>\n",
       "      <td>-0.529334</td>\n",
       "      <td>-0.626219</td>\n",
       "    </tr>\n",
       "    <tr>\n",
       "      <th>OILT</th>\n",
       "      <td>-0.447292</td>\n",
       "      <td>-0.451536</td>\n",
       "      <td>-0.378659</td>\n",
       "      <td>-0.417303</td>\n",
       "      <td>0.973713</td>\n",
       "      <td>1.000000</td>\n",
       "      <td>-0.392289</td>\n",
       "      <td>-0.763903</td>\n",
       "      <td>0.519507</td>\n",
       "      <td>-0.504387</td>\n",
       "      <td>-0.665344</td>\n",
       "    </tr>\n",
       "    <tr>\n",
       "      <th>FED</th>\n",
       "      <td>0.801194</td>\n",
       "      <td>0.971776</td>\n",
       "      <td>0.994356</td>\n",
       "      <td>0.987697</td>\n",
       "      <td>-0.341094</td>\n",
       "      <td>-0.392289</td>\n",
       "      <td>1.000000</td>\n",
       "      <td>0.514469</td>\n",
       "      <td>-0.016524</td>\n",
       "      <td>0.511294</td>\n",
       "      <td>0.778719</td>\n",
       "    </tr>\n",
       "    <tr>\n",
       "      <th>USD/EUR</th>\n",
       "      <td>0.738190</td>\n",
       "      <td>0.513974</td>\n",
       "      <td>0.490485</td>\n",
       "      <td>0.507199</td>\n",
       "      <td>-0.711878</td>\n",
       "      <td>-0.763903</td>\n",
       "      <td>0.514469</td>\n",
       "      <td>1.000000</td>\n",
       "      <td>-0.158504</td>\n",
       "      <td>0.287996</td>\n",
       "      <td>0.780883</td>\n",
       "    </tr>\n",
       "    <tr>\n",
       "      <th>GOLD</th>\n",
       "      <td>-0.002773</td>\n",
       "      <td>-0.130463</td>\n",
       "      <td>-0.033128</td>\n",
       "      <td>-0.073953</td>\n",
       "      <td>0.643472</td>\n",
       "      <td>0.519507</td>\n",
       "      <td>-0.016524</td>\n",
       "      <td>-0.158504</td>\n",
       "      <td>1.000000</td>\n",
       "      <td>-0.322429</td>\n",
       "      <td>-0.121290</td>\n",
       "    </tr>\n",
       "    <tr>\n",
       "      <th>USD/CNY</th>\n",
       "      <td>0.178569</td>\n",
       "      <td>0.526192</td>\n",
       "      <td>0.502027</td>\n",
       "      <td>0.511921</td>\n",
       "      <td>-0.529334</td>\n",
       "      <td>-0.504387</td>\n",
       "      <td>0.511294</td>\n",
       "      <td>0.287996</td>\n",
       "      <td>-0.322429</td>\n",
       "      <td>1.000000</td>\n",
       "      <td>0.628097</td>\n",
       "    </tr>\n",
       "    <tr>\n",
       "      <th>USD/GBP</th>\n",
       "      <td>0.742263</td>\n",
       "      <td>0.778590</td>\n",
       "      <td>0.763354</td>\n",
       "      <td>0.775645</td>\n",
       "      <td>-0.626219</td>\n",
       "      <td>-0.665344</td>\n",
       "      <td>0.778719</td>\n",
       "      <td>0.780883</td>\n",
       "      <td>-0.121290</td>\n",
       "      <td>0.628097</td>\n",
       "      <td>1.000000</td>\n",
       "    </tr>\n",
       "  </tbody>\n",
       "</table>\n",
       "</div>"
      ],
      "text/plain": [
       "              S&P   1YTBILL   3MTBILL   6MTBILL      OILB      OILT       FED  \\\n",
       "S&P      1.000000  0.772188  0.786958  0.785081 -0.401122 -0.447292  0.801194   \n",
       "1YTBILL  0.772188  1.000000  0.984906  0.994850 -0.410710 -0.451536  0.971776   \n",
       "3MTBILL  0.786958  0.984906  1.000000  0.996555 -0.329345 -0.378659  0.994356   \n",
       "6MTBILL  0.785081  0.994850  0.996555  1.000000 -0.370364 -0.417303  0.987697   \n",
       "OILB    -0.401122 -0.410710 -0.329345 -0.370364  1.000000  0.973713 -0.341094   \n",
       "OILT    -0.447292 -0.451536 -0.378659 -0.417303  0.973713  1.000000 -0.392289   \n",
       "FED      0.801194  0.971776  0.994356  0.987697 -0.341094 -0.392289  1.000000   \n",
       "USD/EUR  0.738190  0.513974  0.490485  0.507199 -0.711878 -0.763903  0.514469   \n",
       "GOLD    -0.002773 -0.130463 -0.033128 -0.073953  0.643472  0.519507 -0.016524   \n",
       "USD/CNY  0.178569  0.526192  0.502027  0.511921 -0.529334 -0.504387  0.511294   \n",
       "USD/GBP  0.742263  0.778590  0.763354  0.775645 -0.626219 -0.665344  0.778719   \n",
       "\n",
       "          USD/EUR      GOLD   USD/CNY   USD/GBP  \n",
       "S&P      0.738190 -0.002773  0.178569  0.742263  \n",
       "1YTBILL  0.513974 -0.130463  0.526192  0.778590  \n",
       "3MTBILL  0.490485 -0.033128  0.502027  0.763354  \n",
       "6MTBILL  0.507199 -0.073953  0.511921  0.775645  \n",
       "OILB    -0.711878  0.643472 -0.529334 -0.626219  \n",
       "OILT    -0.763903  0.519507 -0.504387 -0.665344  \n",
       "FED      0.514469 -0.016524  0.511294  0.778719  \n",
       "USD/EUR  1.000000 -0.158504  0.287996  0.780883  \n",
       "GOLD    -0.158504  1.000000 -0.322429 -0.121290  \n",
       "USD/CNY  0.287996 -0.322429  1.000000  0.628097  \n",
       "USD/GBP  0.780883 -0.121290  0.628097  1.000000  "
      ]
     },
     "execution_count": 74,
     "metadata": {},
     "output_type": "execute_result"
    }
   ],
   "source": [
    "# the first step is check correlation between S&P 500 and inputs\n",
    "corr=data.corr()\n",
    "corr"
   ]
  },
  {
   "cell_type": "code",
   "execution_count": 75,
   "metadata": {},
   "outputs": [
    {
     "data": {
      "text/plain": [
       "S&P        1.000000\n",
       "FED        0.801194\n",
       "3MTBILL    0.786958\n",
       "6MTBILL    0.785081\n",
       "1YTBILL    0.772188\n",
       "USD/GBP    0.742263\n",
       "USD/EUR    0.738190\n",
       "USD/CNY    0.178569\n",
       "GOLD      -0.002773\n",
       "OILB      -0.401122\n",
       "OILT      -0.447292\n",
       "Name: S&P, dtype: float64"
      ]
     },
     "execution_count": 75,
     "metadata": {},
     "output_type": "execute_result"
    }
   ],
   "source": [
    "# sort correlation\n",
    "corr['S&P'].sort_values(ascending=False)"
   ]
  },
  {
   "cell_type": "code",
   "execution_count": 76,
   "metadata": {},
   "outputs": [
    {
     "data": {
      "text/html": [
       "<div>\n",
       "<style scoped>\n",
       "    .dataframe tbody tr th:only-of-type {\n",
       "        vertical-align: middle;\n",
       "    }\n",
       "\n",
       "    .dataframe tbody tr th {\n",
       "        vertical-align: top;\n",
       "    }\n",
       "\n",
       "    .dataframe thead th {\n",
       "        text-align: right;\n",
       "    }\n",
       "</style>\n",
       "<table border=\"1\" class=\"dataframe\">\n",
       "  <thead>\n",
       "    <tr style=\"text-align: right;\">\n",
       "      <th></th>\n",
       "      <th>S&amp;P</th>\n",
       "      <th>1YTBILL</th>\n",
       "      <th>3MTBILL</th>\n",
       "      <th>6MTBILL</th>\n",
       "      <th>OILT</th>\n",
       "      <th>FED</th>\n",
       "      <th>USD/EUR</th>\n",
       "      <th>USD/GBP</th>\n",
       "    </tr>\n",
       "    <tr>\n",
       "      <th>Date</th>\n",
       "      <th></th>\n",
       "      <th></th>\n",
       "      <th></th>\n",
       "      <th></th>\n",
       "      <th></th>\n",
       "      <th></th>\n",
       "      <th></th>\n",
       "      <th></th>\n",
       "    </tr>\n",
       "  </thead>\n",
       "  <tbody>\n",
       "    <tr>\n",
       "      <th>2009-01-02</th>\n",
       "      <td>931.799988</td>\n",
       "      <td>0.38</td>\n",
       "      <td>0.08</td>\n",
       "      <td>0.28</td>\n",
       "      <td>46.17</td>\n",
       "      <td>0.08</td>\n",
       "      <td>0.7176</td>\n",
       "      <td>0.6896</td>\n",
       "    </tr>\n",
       "    <tr>\n",
       "      <th>2009-01-05</th>\n",
       "      <td>927.450012</td>\n",
       "      <td>0.41</td>\n",
       "      <td>0.14</td>\n",
       "      <td>0.32</td>\n",
       "      <td>48.61</td>\n",
       "      <td>0.11</td>\n",
       "      <td>0.7334</td>\n",
       "      <td>0.6865</td>\n",
       "    </tr>\n",
       "    <tr>\n",
       "      <th>2009-01-06</th>\n",
       "      <td>934.700012</td>\n",
       "      <td>0.42</td>\n",
       "      <td>0.14</td>\n",
       "      <td>0.31</td>\n",
       "      <td>48.56</td>\n",
       "      <td>0.09</td>\n",
       "      <td>0.7476</td>\n",
       "      <td>0.6809</td>\n",
       "    </tr>\n",
       "    <tr>\n",
       "      <th>2009-01-07</th>\n",
       "      <td>906.650024</td>\n",
       "      <td>0.41</td>\n",
       "      <td>0.11</td>\n",
       "      <td>0.29</td>\n",
       "      <td>42.75</td>\n",
       "      <td>0.11</td>\n",
       "      <td>0.7327</td>\n",
       "      <td>0.6596</td>\n",
       "    </tr>\n",
       "    <tr>\n",
       "      <th>2009-01-08</th>\n",
       "      <td>909.729980</td>\n",
       "      <td>0.41</td>\n",
       "      <td>0.09</td>\n",
       "      <td>0.28</td>\n",
       "      <td>41.68</td>\n",
       "      <td>0.10</td>\n",
       "      <td>0.7289</td>\n",
       "      <td>0.6579</td>\n",
       "    </tr>\n",
       "    <tr>\n",
       "      <th>...</th>\n",
       "      <td>...</td>\n",
       "      <td>...</td>\n",
       "      <td>...</td>\n",
       "      <td>...</td>\n",
       "      <td>...</td>\n",
       "      <td>...</td>\n",
       "      <td>...</td>\n",
       "      <td>...</td>\n",
       "    </tr>\n",
       "    <tr>\n",
       "      <th>2019-12-23</th>\n",
       "      <td>3224.010010</td>\n",
       "      <td>1.49</td>\n",
       "      <td>1.56</td>\n",
       "      <td>1.56</td>\n",
       "      <td>60.51</td>\n",
       "      <td>1.55</td>\n",
       "      <td>0.9020</td>\n",
       "      <td>0.7736</td>\n",
       "    </tr>\n",
       "    <tr>\n",
       "      <th>2019-12-24</th>\n",
       "      <td>3223.379883</td>\n",
       "      <td>1.49</td>\n",
       "      <td>1.55</td>\n",
       "      <td>1.57</td>\n",
       "      <td>61.17</td>\n",
       "      <td>1.55</td>\n",
       "      <td>0.9030</td>\n",
       "      <td>0.7723</td>\n",
       "    </tr>\n",
       "    <tr>\n",
       "      <th>2019-12-26</th>\n",
       "      <td>3239.909912</td>\n",
       "      <td>1.49</td>\n",
       "      <td>1.55</td>\n",
       "      <td>1.57</td>\n",
       "      <td>61.72</td>\n",
       "      <td>1.55</td>\n",
       "      <td>NaN</td>\n",
       "      <td>NaN</td>\n",
       "    </tr>\n",
       "    <tr>\n",
       "      <th>2019-12-27</th>\n",
       "      <td>3240.020020</td>\n",
       "      <td>1.47</td>\n",
       "      <td>1.54</td>\n",
       "      <td>1.55</td>\n",
       "      <td>61.76</td>\n",
       "      <td>1.55</td>\n",
       "      <td>0.8957</td>\n",
       "      <td>0.7637</td>\n",
       "    </tr>\n",
       "    <tr>\n",
       "      <th>2019-12-30</th>\n",
       "      <td>3221.290039</td>\n",
       "      <td>1.53</td>\n",
       "      <td>1.54</td>\n",
       "      <td>1.56</td>\n",
       "      <td>61.66</td>\n",
       "      <td>NaN</td>\n",
       "      <td>0.8928</td>\n",
       "      <td>0.7625</td>\n",
       "    </tr>\n",
       "  </tbody>\n",
       "</table>\n",
       "<p>2767 rows × 8 columns</p>\n",
       "</div>"
      ],
      "text/plain": [
       "                    S&P  1YTBILL  3MTBILL  6MTBILL   OILT   FED  USD/EUR  \\\n",
       "Date                                                                       \n",
       "2009-01-02   931.799988     0.38     0.08     0.28  46.17  0.08   0.7176   \n",
       "2009-01-05   927.450012     0.41     0.14     0.32  48.61  0.11   0.7334   \n",
       "2009-01-06   934.700012     0.42     0.14     0.31  48.56  0.09   0.7476   \n",
       "2009-01-07   906.650024     0.41     0.11     0.29  42.75  0.11   0.7327   \n",
       "2009-01-08   909.729980     0.41     0.09     0.28  41.68  0.10   0.7289   \n",
       "...                 ...      ...      ...      ...    ...   ...      ...   \n",
       "2019-12-23  3224.010010     1.49     1.56     1.56  60.51  1.55   0.9020   \n",
       "2019-12-24  3223.379883     1.49     1.55     1.57  61.17  1.55   0.9030   \n",
       "2019-12-26  3239.909912     1.49     1.55     1.57  61.72  1.55      NaN   \n",
       "2019-12-27  3240.020020     1.47     1.54     1.55  61.76  1.55   0.8957   \n",
       "2019-12-30  3221.290039     1.53     1.54     1.56  61.66   NaN   0.8928   \n",
       "\n",
       "            USD/GBP  \n",
       "Date                 \n",
       "2009-01-02   0.6896  \n",
       "2009-01-05   0.6865  \n",
       "2009-01-06   0.6809  \n",
       "2009-01-07   0.6596  \n",
       "2009-01-08   0.6579  \n",
       "...             ...  \n",
       "2019-12-23   0.7736  \n",
       "2019-12-24   0.7723  \n",
       "2019-12-26      NaN  \n",
       "2019-12-27   0.7637  \n",
       "2019-12-30   0.7625  \n",
       "\n",
       "[2767 rows x 8 columns]"
      ]
     },
     "execution_count": 76,
     "metadata": {},
     "output_type": "execute_result"
    }
   ],
   "source": [
    "# removing inputs with weak correlation\n",
    "data.drop(['GOLD','USD/CNY','OILB'],axis=1,inplace=True)\n",
    "data"
   ]
  },
  {
   "cell_type": "code",
   "execution_count": 77,
   "metadata": {},
   "outputs": [],
   "source": [
    "# removing missing data \n",
    "data.dropna(inplace=True)"
   ]
  },
  {
   "cell_type": "code",
   "execution_count": 78,
   "metadata": {},
   "outputs": [
    {
     "name": "stderr",
     "output_type": "stream",
     "text": [
      "C:\\Users\\sahar\\anaconda3\\envs\\tensorflow_env\\lib\\site-packages\\ipykernel_launcher.py:7: SettingWithCopyWarning: \n",
      "A value is trying to be set on a copy of a slice from a DataFrame.\n",
      "Try using .loc[row_indexer,col_indexer] = value instead\n",
      "\n",
      "See the caveats in the documentation: https://pandas.pydata.org/pandas-docs/stable/user_guide/indexing.html#returning-a-view-versus-a-copy\n",
      "  import sys\n",
      "C:\\Users\\sahar\\anaconda3\\envs\\tensorflow_env\\lib\\site-packages\\ipykernel_launcher.py:10: SettingWithCopyWarning: \n",
      "A value is trying to be set on a copy of a slice from a DataFrame\n",
      "\n",
      "See the caveats in the documentation: https://pandas.pydata.org/pandas-docs/stable/user_guide/indexing.html#returning-a-view-versus-a-copy\n",
      "  # Remove the CWD from sys.path while we load stuff.\n",
      "C:\\Users\\sahar\\anaconda3\\envs\\tensorflow_env\\lib\\site-packages\\IPython\\core\\interactiveshell.py:3331: SettingWithCopyWarning: \n",
      "A value is trying to be set on a copy of a slice from a DataFrame\n",
      "\n",
      "See the caveats in the documentation: https://pandas.pydata.org/pandas-docs/stable/user_guide/indexing.html#returning-a-view-versus-a-copy\n",
      "  exec(code_obj, self.user_global_ns, self.user_ns)\n",
      "C:\\Users\\sahar\\anaconda3\\envs\\tensorflow_env\\lib\\site-packages\\ipykernel_launcher.py:12: SettingWithCopyWarning: \n",
      "A value is trying to be set on a copy of a slice from a DataFrame\n",
      "\n",
      "See the caveats in the documentation: https://pandas.pydata.org/pandas-docs/stable/user_guide/indexing.html#returning-a-view-versus-a-copy\n",
      "  if sys.path[0] == '':\n"
     ]
    },
    {
     "data": {
      "text/html": [
       "<div>\n",
       "<style scoped>\n",
       "    .dataframe tbody tr th:only-of-type {\n",
       "        vertical-align: middle;\n",
       "    }\n",
       "\n",
       "    .dataframe tbody tr th {\n",
       "        vertical-align: top;\n",
       "    }\n",
       "\n",
       "    .dataframe thead th {\n",
       "        text-align: right;\n",
       "    }\n",
       "</style>\n",
       "<table border=\"1\" class=\"dataframe\">\n",
       "  <thead>\n",
       "    <tr style=\"text-align: right;\">\n",
       "      <th></th>\n",
       "      <th>S&amp;P</th>\n",
       "      <th>1YTBILL</th>\n",
       "      <th>3MTBILL</th>\n",
       "      <th>6MTBILL</th>\n",
       "      <th>OILT</th>\n",
       "      <th>FED</th>\n",
       "      <th>USD/EUR</th>\n",
       "      <th>USD/GBP</th>\n",
       "      <th>target</th>\n",
       "    </tr>\n",
       "    <tr>\n",
       "      <th>Date</th>\n",
       "      <th></th>\n",
       "      <th></th>\n",
       "      <th></th>\n",
       "      <th></th>\n",
       "      <th></th>\n",
       "      <th></th>\n",
       "      <th></th>\n",
       "      <th></th>\n",
       "      <th></th>\n",
       "    </tr>\n",
       "  </thead>\n",
       "  <tbody>\n",
       "    <tr>\n",
       "      <th>2009-02-11</th>\n",
       "      <td>833.739990</td>\n",
       "      <td>0.59</td>\n",
       "      <td>0.30</td>\n",
       "      <td>0.45</td>\n",
       "      <td>35.93</td>\n",
       "      <td>0.22</td>\n",
       "      <td>0.7751</td>\n",
       "      <td>0.6968</td>\n",
       "      <td>0</td>\n",
       "    </tr>\n",
       "    <tr>\n",
       "      <th>2009-02-12</th>\n",
       "      <td>835.190002</td>\n",
       "      <td>0.57</td>\n",
       "      <td>0.29</td>\n",
       "      <td>0.42</td>\n",
       "      <td>34.03</td>\n",
       "      <td>0.23</td>\n",
       "      <td>0.7828</td>\n",
       "      <td>0.7019</td>\n",
       "      <td>0</td>\n",
       "    </tr>\n",
       "    <tr>\n",
       "      <th>2009-02-13</th>\n",
       "      <td>826.840027</td>\n",
       "      <td>0.60</td>\n",
       "      <td>0.29</td>\n",
       "      <td>0.45</td>\n",
       "      <td>37.63</td>\n",
       "      <td>0.22</td>\n",
       "      <td>0.7745</td>\n",
       "      <td>0.6928</td>\n",
       "      <td>0</td>\n",
       "    </tr>\n",
       "  </tbody>\n",
       "</table>\n",
       "</div>"
      ],
      "text/plain": [
       "                   S&P  1YTBILL  3MTBILL  6MTBILL   OILT   FED  USD/EUR  \\\n",
       "Date                                                                      \n",
       "2009-02-11  833.739990     0.59     0.30     0.45  35.93  0.22   0.7751   \n",
       "2009-02-12  835.190002     0.57     0.29     0.42  34.03  0.23   0.7828   \n",
       "2009-02-13  826.840027     0.60     0.29     0.45  37.63  0.22   0.7745   \n",
       "\n",
       "            USD/GBP  target  \n",
       "Date                         \n",
       "2009-02-11   0.6968       0  \n",
       "2009-02-12   0.7019       0  \n",
       "2009-02-13   0.6928       0  "
      ]
     },
     "execution_count": 78,
     "metadata": {},
     "output_type": "execute_result"
    }
   ],
   "source": [
    "# categorize S&P 500 into two category , 0 for downward trend and 1 for upward trend,using MACD indicator for categorizing \n",
    "mean_12=data['S&P'].rolling(window=12).mean()\n",
    "mean_26=data['S&P'].rolling(window=26).mean()\n",
    "mean_12=mean_12.iloc[27:]\n",
    "mean_26=mean_26.iloc[27:]\n",
    "data=data.iloc[27:,:]\n",
    "data['target']=0\n",
    "for i in range(len(mean_12)):\n",
    "    if mean_12.iloc[i]<mean_26.iloc[i]:\n",
    "        data['target'][i]=0\n",
    "    else:\n",
    "        data['target'][i]=1\n",
    "data.head(3)"
   ]
  },
  {
   "cell_type": "code",
   "execution_count": 79,
   "metadata": {},
   "outputs": [
    {
     "data": {
      "text/html": [
       "<div>\n",
       "<style scoped>\n",
       "    .dataframe tbody tr th:only-of-type {\n",
       "        vertical-align: middle;\n",
       "    }\n",
       "\n",
       "    .dataframe tbody tr th {\n",
       "        vertical-align: top;\n",
       "    }\n",
       "\n",
       "    .dataframe thead th {\n",
       "        text-align: right;\n",
       "    }\n",
       "</style>\n",
       "<table border=\"1\" class=\"dataframe\">\n",
       "  <thead>\n",
       "    <tr style=\"text-align: right;\">\n",
       "      <th></th>\n",
       "      <th>1YTBILL</th>\n",
       "      <th>3MTBILL</th>\n",
       "      <th>6MTBILL</th>\n",
       "      <th>OILT</th>\n",
       "      <th>FED</th>\n",
       "      <th>USD/EUR</th>\n",
       "      <th>USD/GBP</th>\n",
       "      <th>target</th>\n",
       "    </tr>\n",
       "    <tr>\n",
       "      <th>Date</th>\n",
       "      <th></th>\n",
       "      <th></th>\n",
       "      <th></th>\n",
       "      <th></th>\n",
       "      <th></th>\n",
       "      <th></th>\n",
       "      <th></th>\n",
       "      <th></th>\n",
       "    </tr>\n",
       "  </thead>\n",
       "  <tbody>\n",
       "    <tr>\n",
       "      <th>2009-02-11</th>\n",
       "      <td>0.59</td>\n",
       "      <td>0.30</td>\n",
       "      <td>0.45</td>\n",
       "      <td>35.93</td>\n",
       "      <td>0.22</td>\n",
       "      <td>0.7751</td>\n",
       "      <td>0.6968</td>\n",
       "      <td>0</td>\n",
       "    </tr>\n",
       "    <tr>\n",
       "      <th>2009-02-12</th>\n",
       "      <td>0.57</td>\n",
       "      <td>0.29</td>\n",
       "      <td>0.42</td>\n",
       "      <td>34.03</td>\n",
       "      <td>0.23</td>\n",
       "      <td>0.7828</td>\n",
       "      <td>0.7019</td>\n",
       "      <td>0</td>\n",
       "    </tr>\n",
       "    <tr>\n",
       "      <th>2009-02-13</th>\n",
       "      <td>0.60</td>\n",
       "      <td>0.29</td>\n",
       "      <td>0.45</td>\n",
       "      <td>37.63</td>\n",
       "      <td>0.22</td>\n",
       "      <td>0.7745</td>\n",
       "      <td>0.6928</td>\n",
       "      <td>0</td>\n",
       "    </tr>\n",
       "  </tbody>\n",
       "</table>\n",
       "</div>"
      ],
      "text/plain": [
       "            1YTBILL  3MTBILL  6MTBILL   OILT   FED  USD/EUR  USD/GBP  target\n",
       "Date                                                                        \n",
       "2009-02-11     0.59     0.30     0.45  35.93  0.22   0.7751   0.6968       0\n",
       "2009-02-12     0.57     0.29     0.42  34.03  0.23   0.7828   0.7019       0\n",
       "2009-02-13     0.60     0.29     0.45  37.63  0.22   0.7745   0.6928       0"
      ]
     },
     "execution_count": 79,
     "metadata": {},
     "output_type": "execute_result"
    }
   ],
   "source": [
    "# now  don't need S&P 500 price so S&P 500 column has been removed\n",
    "data=data.iloc[:,1:]\n",
    "data.head(3)"
   ]
  },
  {
   "cell_type": "code",
   "execution_count": 80,
   "metadata": {},
   "outputs": [
    {
     "data": {
      "text/html": [
       "<div>\n",
       "<style scoped>\n",
       "    .dataframe tbody tr th:only-of-type {\n",
       "        vertical-align: middle;\n",
       "    }\n",
       "\n",
       "    .dataframe tbody tr th {\n",
       "        vertical-align: top;\n",
       "    }\n",
       "\n",
       "    .dataframe thead th {\n",
       "        text-align: right;\n",
       "    }\n",
       "</style>\n",
       "<table border=\"1\" class=\"dataframe\">\n",
       "  <thead>\n",
       "    <tr style=\"text-align: right;\">\n",
       "      <th></th>\n",
       "      <th>1YTBILL</th>\n",
       "      <th>3MTBILL</th>\n",
       "      <th>6MTBILL</th>\n",
       "      <th>OILT</th>\n",
       "      <th>FED</th>\n",
       "      <th>USD/EUR</th>\n",
       "      <th>USD/GBP</th>\n",
       "    </tr>\n",
       "    <tr>\n",
       "      <th>Date</th>\n",
       "      <th></th>\n",
       "      <th></th>\n",
       "      <th></th>\n",
       "      <th></th>\n",
       "      <th></th>\n",
       "      <th></th>\n",
       "      <th></th>\n",
       "    </tr>\n",
       "  </thead>\n",
       "  <tbody>\n",
       "    <tr>\n",
       "      <th>2009-02-11</th>\n",
       "      <td>0.59</td>\n",
       "      <td>0.30</td>\n",
       "      <td>0.45</td>\n",
       "      <td>35.93</td>\n",
       "      <td>0.22</td>\n",
       "      <td>0.7751</td>\n",
       "      <td>0.6968</td>\n",
       "    </tr>\n",
       "    <tr>\n",
       "      <th>2009-02-12</th>\n",
       "      <td>0.57</td>\n",
       "      <td>0.29</td>\n",
       "      <td>0.42</td>\n",
       "      <td>34.03</td>\n",
       "      <td>0.23</td>\n",
       "      <td>0.7828</td>\n",
       "      <td>0.7019</td>\n",
       "    </tr>\n",
       "    <tr>\n",
       "      <th>2009-02-13</th>\n",
       "      <td>0.60</td>\n",
       "      <td>0.29</td>\n",
       "      <td>0.45</td>\n",
       "      <td>37.63</td>\n",
       "      <td>0.22</td>\n",
       "      <td>0.7745</td>\n",
       "      <td>0.6928</td>\n",
       "    </tr>\n",
       "  </tbody>\n",
       "</table>\n",
       "</div>"
      ],
      "text/plain": [
       "            1YTBILL  3MTBILL  6MTBILL   OILT   FED  USD/EUR  USD/GBP\n",
       "Date                                                                \n",
       "2009-02-11     0.59     0.30     0.45  35.93  0.22   0.7751   0.6968\n",
       "2009-02-12     0.57     0.29     0.42  34.03  0.23   0.7828   0.7019\n",
       "2009-02-13     0.60     0.29     0.45  37.63  0.22   0.7745   0.6928"
      ]
     },
     "execution_count": 80,
     "metadata": {},
     "output_type": "execute_result"
    }
   ],
   "source": [
    "# define X and y , in this case there are 7 inputs and 1 output\n",
    "X=data.iloc[:,:7]\n",
    "y=data.iloc[:,7]\n",
    "X.head(3)"
   ]
  },
  {
   "cell_type": "code",
   "execution_count": 81,
   "metadata": {},
   "outputs": [],
   "source": [
    "# split data to 80% train and 20% test \n",
    "from sklearn.model_selection import train_test_split\n",
    "X_train, X_test, y_train, y_test = train_test_split(X, y, test_size = 0.2,random_state=42)"
   ]
  },
  {
   "cell_type": "code",
   "execution_count": 82,
   "metadata": {},
   "outputs": [
    {
     "data": {
      "text/plain": [
       "1    1422\n",
       "0     701\n",
       "Name: target, dtype: int64"
      ]
     },
     "execution_count": 82,
     "metadata": {},
     "output_type": "execute_result"
    }
   ],
   "source": [
    "# distribution of two categories for train set\n",
    "y_train.value_counts()"
   ]
  },
  {
   "cell_type": "code",
   "execution_count": 83,
   "metadata": {},
   "outputs": [
    {
     "data": {
      "text/plain": [
       "1    355\n",
       "0    176\n",
       "Name: target, dtype: int64"
      ]
     },
     "execution_count": 83,
     "metadata": {},
     "output_type": "execute_result"
    }
   ],
   "source": [
    "# distribution of two categories for test set\n",
    "y_test.value_counts()"
   ]
  },
  {
   "cell_type": "code",
   "execution_count": 84,
   "metadata": {},
   "outputs": [
    {
     "data": {
      "text/plain": [
       "array([[ 0.69353646,  0.68473087,  0.71005368, ...,  0.80062813,\n",
       "         0.2987902 ,  1.12381883],\n",
       "       [-0.69631879, -0.55686657, -0.60091685, ..., -0.57493544,\n",
       "        -0.58229716, -0.92993224],\n",
       "       [ 1.97647978,  1.67266862,  1.80915019, ...,  1.53607795,\n",
       "         0.19362402,  0.63295776],\n",
       "       ...,\n",
       "       [-0.80323074, -0.67702116, -0.74658024, ..., -0.67027153,\n",
       "        -0.92088094, -0.93721504],\n",
       "       [-0.78986674, -0.65032014, -0.72009599, ..., -0.65665209,\n",
       "        -0.9888542 , -1.23144037],\n",
       "       [-0.65622682, -0.55686657, -0.61415898, ..., -0.60217433,\n",
       "        -0.12828708, -0.69833903]])"
      ]
     },
     "execution_count": 84,
     "metadata": {},
     "output_type": "execute_result"
    }
   ],
   "source": [
    "#standardized the inputs \n",
    "from sklearn.preprocessing import StandardScaler\n",
    "sc=StandardScaler()\n",
    "X_train=sc.fit_transform(X_train)\n",
    "X_test=sc.transform(X_test)\n",
    "X_train"
   ]
  },
  {
   "cell_type": "code",
   "execution_count": 85,
   "metadata": {},
   "outputs": [],
   "source": [
    "# because everytime that runs the model won't get different results I fixed the random data \n",
    "tf.random.set_seed(42)"
   ]
  },
  {
   "cell_type": "markdown",
   "metadata": {},
   "source": [
    "# Vanila Neural Network"
   ]
  },
  {
   "cell_type": "code",
   "execution_count": 86,
   "metadata": {},
   "outputs": [],
   "source": [
    "# build a vanilla neural network with just one hidden layer, and a dropout layer for avoiding overfitting,the loss function is hinge and \n",
    "#loss function is Adam\n",
    "def build_model(neuron=14,activation='tanh'):\n",
    "    model=tf.keras.models.Sequential()\n",
    "    model.add(tf.keras.layers.Dense(neuron,input_dim=7,activation=activation,kernel_initializer='normal'))\n",
    "    model.add(tf.keras.layers.Dropout(0.5))\n",
    "    model.add(tf.keras.layers.Dense(1, activation='sigmoid',kernel_initializer='normal'))\n",
    "    opt=tf.keras.optimizers.Adam(lr=0.001)\n",
    "    model.compile(loss='hinge', optimizer=opt, metrics=['accuracy'])\n",
    "    return model"
   ]
  },
  {
   "cell_type": "code",
   "execution_count": 87,
   "metadata": {},
   "outputs": [],
   "source": [
    "# using different range of  hidden layer neurons and activation function for hyperparameter tuning\n",
    "model = tf.keras.wrappers.scikit_learn.KerasClassifier(build_fn=build_model,epochs=200,batch_size=10,verbose=0)\n",
    "from sklearn.model_selection import GridSearchCV\n",
    "neuron=[14,28,35,48]\n",
    "activation=['relu','tanh']\n",
    "param_grid = dict(neuron=neuron,activation=activation)\n",
    "grid = GridSearchCV(estimator=model, param_grid=param_grid, cv=3)\n",
    "grid_result = grid.fit(X_train, y_train,validation_data=[X_test,y_test])"
   ]
  },
  {
   "cell_type": "code",
   "execution_count": 88,
   "metadata": {},
   "outputs": [
    {
     "data": {
      "text/plain": [
       "{'activation': 'tanh', 'neuron': 48}"
      ]
     },
     "execution_count": 88,
     "metadata": {},
     "output_type": "execute_result"
    }
   ],
   "source": [
    "grid_result.best_params_"
   ]
  },
  {
   "cell_type": "code",
   "execution_count": 89,
   "metadata": {},
   "outputs": [
    {
     "data": {
      "text/plain": [
       "0.6924166878064474"
      ]
     },
     "execution_count": 89,
     "metadata": {},
     "output_type": "execute_result"
    }
   ],
   "source": [
    "grid_result.best_score_"
   ]
  },
  {
   "cell_type": "code",
   "execution_count": 90,
   "metadata": {},
   "outputs": [],
   "source": [
    "#  use best parameter from hyperparameter tuning  to build the model and also check the best learning rate \n",
    "model=tf.keras.models.Sequential()\n",
    "model.add(tf.keras.layers.Dense(grid_result.best_params_['neuron'],input_dim=7,activation=grid_result.best_params_['activation'],kernel_initializer='normal'))\n",
    "model.add(tf.keras.layers.Dropout(0.5))\n",
    "model.add(tf.keras.layers.Dense(1,kernel_initializer='normal',activation='sigmoid'))\n",
    "lr_schedule = tf.keras.callbacks.LearningRateScheduler(\n",
    "    lambda epoch: 1e-3 * 10**(epoch / 20))\n",
    "opt = tf.keras.optimizers.Adam(lr=0.001)\n",
    "model.compile(loss='hinge', optimizer=opt , metrics=['accuracy'])"
   ]
  },
  {
   "cell_type": "code",
   "execution_count": 91,
   "metadata": {},
   "outputs": [],
   "source": [
    "history=model.fit(X_train, y_train,validation_data=[X_test,y_test], epochs=200,verbose=0,callbacks=[lr_schedule])"
   ]
  },
  {
   "cell_type": "code",
   "execution_count": 92,
   "metadata": {},
   "outputs": [
    {
     "data": {
      "text/plain": [
       "(0.001, 10.0, 0.5, 1.0)"
      ]
     },
     "execution_count": 92,
     "metadata": {},
     "output_type": "execute_result"
    },
    {
     "data": {
      "image/png": "[encoded data removed]",
      "text/plain": [
       "<Figure size 432x288 with 1 Axes>"
      ]
     },
     "metadata": {
      "needs_background": "light"
     },
     "output_type": "display_data"
    }
   ],
   "source": [
    "# the best learning rate will be the minimum of the figure\n",
    "plt.semilogx(history.history[\"lr\"], history.history[\"loss\"])\n",
    "plt.axis([1e-3, 10, 0.5, 1])"
   ]
  },
  {
   "cell_type": "code",
   "execution_count": 99,
   "metadata": {},
   "outputs": [],
   "source": [
    "# model based the best learning rate have been got\n",
    "model=tf.keras.models.Sequential()\n",
    "model.add(tf.keras.layers.Dense(grid_result.best_params_['neuron'],input_dim=7,activation=grid_result.best_params_['activation'],kernel_initializer='normal'))\n",
    "model.add(tf.keras.layers.Dropout(0.5))\n",
    "model.add(tf.keras.layers.Dense(1,kernel_initializer='normal',activation='sigmoid'))\n",
    "opt = tf.keras.optimizers.Adam(lr=0.003)\n",
    "model.compile(loss='hinge', optimizer=opt , metrics=['accuracy'])"
   ]
  },
  {
   "cell_type": "code",
   "execution_count": 100,
   "metadata": {},
   "outputs": [],
   "source": [
    "history=model.fit(X_train, y_train,validation_data=[X_test,y_test],epochs=200,batch_size=10,verbose=0)"
   ]
  },
  {
   "cell_type": "code",
   "execution_count": 101,
   "metadata": {},
   "outputs": [
    {
     "data": {
      "image/png": "[encoded data removed]",
      "text/plain": [
       "<Figure size 1152x576 with 1 Axes>"
      ]
     },
     "metadata": {
      "needs_background": "light"
     },
     "output_type": "display_data"
    },
    {
     "data": {
      "image/png": "[encoded data removed]",
      "text/plain": [
       "<Figure size 1152x576 with 1 Axes>"
      ]
     },
     "metadata": {
      "needs_background": "light"
     },
     "output_type": "display_data"
    }
   ],
   "source": [
    "# plot loss and accuracy of train and test to compare and check for overfitting and underfitting\n",
    "def plot_loss_acc():\n",
    "    plt.figure(figsize=(16,8))\n",
    "    plt.plot(history.history['loss'])\n",
    "    plt.plot(history.history['val_loss'])\n",
    "    plt.xlabel('epochs',fontsize=18)\n",
    "    plt.ylabel('loss',fontsize=18)\n",
    "    plt.title('model_loss',fontsize=18)\n",
    "    plt.legend(['Train', 'Test'], loc='upper left')\n",
    "    plt.show()\n",
    "    \n",
    "    plt.figure(figsize=(16,8))\n",
    "    plt.plot(history.history['accuracy'])\n",
    "    plt.plot(history.history['val_accuracy'])\n",
    "    plt.title('Accuracy')\n",
    "    plt.ylabel('accuracy')\n",
    "    plt.xlabel('epoch')\n",
    "    plt.legend(['train','test'], loc='upper left')\n",
    "    plt.show() \n",
    "plot_loss_acc()"
   ]
  },
  {
   "cell_type": "code",
   "execution_count": 102,
   "metadata": {},
   "outputs": [
    {
     "name": "stdout",
     "output_type": "stream",
     "text": [
      "2123/2123 [==============================] - 0s 71us/sample - loss: 0.6337 - accuracy: 0.6962\n"
     ]
    },
    {
     "data": {
      "text/plain": [
       "[0.6337081482822582, 0.69618464]"
      ]
     },
     "execution_count": 102,
     "metadata": {},
     "output_type": "execute_result"
    }
   ],
   "source": [
    "#train accuracy and loss\n",
    "train_acc = model.evaluate(X_train, y_train)\n",
    "train_acc"
   ]
  },
  {
   "cell_type": "code",
   "execution_count": 103,
   "metadata": {},
   "outputs": [
    {
     "name": "stdout",
     "output_type": "stream",
     "text": [
      "531/531 [==============================] - 0s 105us/sample - loss: 0.6283 - accuracy: 0.7043\n"
     ]
    },
    {
     "data": {
      "text/plain": [
       "[0.6283306503868372, 0.70433146]"
      ]
     },
     "execution_count": 103,
     "metadata": {},
     "output_type": "execute_result"
    }
   ],
   "source": [
    "# test accuracy and loss\n",
    "test_acc = model.evaluate(X_test, y_test)\n",
    "test_acc"
   ]
  },
  {
   "cell_type": "code",
   "execution_count": 104,
   "metadata": {},
   "outputs": [
    {
     "name": "stdout",
     "output_type": "stream",
     "text": [
      "              precision    recall  f1-score   support\n",
      "\n",
      "           0       0.72      0.18      0.28       176\n",
      "           1       0.70      0.97      0.81       355\n",
      "\n",
      "    accuracy                           0.70       531\n",
      "   macro avg       0.71      0.57      0.55       531\n",
      "weighted avg       0.71      0.70      0.64       531\n",
      "\n"
     ]
    }
   ],
   "source": [
    "# performance of model\n",
    "from sklearn.metrics import classification_report\n",
    "y_pred=model.predict_classes(X_test)\n",
    "print(classification_report(y_test, y_pred))"
   ]
  },
  {
   "cell_type": "code",
   "execution_count": null,
   "metadata": {},
   "outputs": [],
   "source": []
  }
 ],
 "metadata": {
  "kernelspec": {
   "display_name": "Python 3",
   "language": "python",
   "name": "python3"
  },
  "language_info": {
   "codemirror_mode": {
    "name": "ipython",
    "version": 3
   },
   "file_extension": ".py",
   "mimetype": "text/x-python",
   "name": "python",
   "nbconvert_exporter": "python",
   "pygments_lexer": "ipython3",
   "version": "3.7.7"
  }
 },
 "nbformat": 4,
 "nbformat_minor": 4
}
