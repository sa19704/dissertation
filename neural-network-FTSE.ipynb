{
 "cells": [
  {
   "cell_type": "code",
   "execution_count": 25,
   "metadata": {},
   "outputs": [],
   "source": [
    "import numpy as np\n",
    "import pandas as pd\n",
    "import matplotlib.pyplot as plt\n",
    "import tensorflow as tf"
   ]
  },
  {
   "cell_type": "code",
   "execution_count": 26,
   "metadata": {},
   "outputs": [
    {
     "data": {
      "text/html": [
       "<div>\n",
       "<style scoped>\n",
       "    .dataframe tbody tr th:only-of-type {\n",
       "        vertical-align: middle;\n",
       "    }\n",
       "\n",
       "    .dataframe tbody tr th {\n",
       "        vertical-align: top;\n",
       "    }\n",
       "\n",
       "    .dataframe thead th {\n",
       "        text-align: right;\n",
       "    }\n",
       "</style>\n",
       "<table border=\"1\" class=\"dataframe\">\n",
       "  <thead>\n",
       "    <tr style=\"text-align: right;\">\n",
       "      <th></th>\n",
       "      <th>FTSE 100</th>\n",
       "      <th>OILB</th>\n",
       "      <th>OILT</th>\n",
       "      <th>GBP/EURO</th>\n",
       "      <th>GBP/CNY</th>\n",
       "      <th>GOLD</th>\n",
       "      <th>SONIA</th>\n",
       "      <th>GBP/USD</th>\n",
       "      <th>3LIBOR</th>\n",
       "      <th>6LIBOR</th>\n",
       "    </tr>\n",
       "    <tr>\n",
       "      <th>Date</th>\n",
       "      <th></th>\n",
       "      <th></th>\n",
       "      <th></th>\n",
       "      <th></th>\n",
       "      <th></th>\n",
       "      <th></th>\n",
       "      <th></th>\n",
       "      <th></th>\n",
       "      <th></th>\n",
       "      <th></th>\n",
       "    </tr>\n",
       "  </thead>\n",
       "  <tbody>\n",
       "    <tr>\n",
       "      <th>2009-01-02</th>\n",
       "      <td>4561.8</td>\n",
       "      <td>29.611424</td>\n",
       "      <td>31.838832</td>\n",
       "      <td>1.0407</td>\n",
       "      <td>9.8940</td>\n",
       "      <td>599.7796</td>\n",
       "      <td>1.5620</td>\n",
       "      <td>1.4502</td>\n",
       "      <td>2.7050</td>\n",
       "      <td>2.90</td>\n",
       "    </tr>\n",
       "    <tr>\n",
       "      <th>2009-01-05</th>\n",
       "      <td>4579.6</td>\n",
       "      <td>31.469160</td>\n",
       "      <td>33.370765</td>\n",
       "      <td>1.0684</td>\n",
       "      <td>9.9493</td>\n",
       "      <td>590.3900</td>\n",
       "      <td>1.5835</td>\n",
       "      <td>1.4567</td>\n",
       "      <td>2.6475</td>\n",
       "      <td>2.85</td>\n",
       "    </tr>\n",
       "    <tr>\n",
       "      <th>2009-01-06</th>\n",
       "      <td>4638.9</td>\n",
       "      <td>33.289201</td>\n",
       "      <td>33.064504</td>\n",
       "      <td>1.0979</td>\n",
       "      <td>10.0393</td>\n",
       "      <td>574.6796</td>\n",
       "      <td>1.5881</td>\n",
       "      <td>1.4686</td>\n",
       "      <td>2.6138</td>\n",
       "      <td>2.82</td>\n",
       "    </tr>\n",
       "  </tbody>\n",
       "</table>\n",
       "</div>"
      ],
      "text/plain": [
       "            FTSE 100       OILB       OILT  GBP/EURO  GBP/CNY      GOLD  \\\n",
       "Date                                                                      \n",
       "2009-01-02    4561.8  29.611424  31.838832    1.0407   9.8940  599.7796   \n",
       "2009-01-05    4579.6  31.469160  33.370765    1.0684   9.9493  590.3900   \n",
       "2009-01-06    4638.9  33.289201  33.064504    1.0979  10.0393  574.6796   \n",
       "\n",
       "             SONIA  GBP/USD  3LIBOR  6LIBOR  \n",
       "Date                                         \n",
       "2009-01-02  1.5620   1.4502  2.7050    2.90  \n",
       "2009-01-05  1.5835   1.4567  2.6475    2.85  \n",
       "2009-01-06  1.5881   1.4686  2.6138    2.82  "
      ]
     },
     "execution_count": 26,
     "metadata": {},
     "output_type": "execute_result"
    }
   ],
   "source": [
    "# import data,data have been collected from different sources and  put in a single file \n",
    "data=pd.read_csv('FTSE.csv',index_col=0,parse_dates=True,na_values=[\"\",\".\",\"0\",\"null\"])\n",
    "data.head(3)"
   ]
  },
  {
   "cell_type": "code",
   "execution_count": 27,
   "metadata": {},
   "outputs": [
    {
     "data": {
      "text/html": [
       "<div>\n",
       "<style scoped>\n",
       "    .dataframe tbody tr th:only-of-type {\n",
       "        vertical-align: middle;\n",
       "    }\n",
       "\n",
       "    .dataframe tbody tr th {\n",
       "        vertical-align: top;\n",
       "    }\n",
       "\n",
       "    .dataframe thead th {\n",
       "        text-align: right;\n",
       "    }\n",
       "</style>\n",
       "<table border=\"1\" class=\"dataframe\">\n",
       "  <thead>\n",
       "    <tr style=\"text-align: right;\">\n",
       "      <th></th>\n",
       "      <th>FTSE 100</th>\n",
       "      <th>OILB</th>\n",
       "      <th>OILT</th>\n",
       "      <th>GBP/EURO</th>\n",
       "      <th>GBP/CNY</th>\n",
       "      <th>GOLD</th>\n",
       "      <th>SONIA</th>\n",
       "      <th>GBP/USD</th>\n",
       "      <th>3LIBOR</th>\n",
       "      <th>6LIBOR</th>\n",
       "    </tr>\n",
       "  </thead>\n",
       "  <tbody>\n",
       "    <tr>\n",
       "      <th>FTSE 100</th>\n",
       "      <td>1.000000</td>\n",
       "      <td>-0.018939</td>\n",
       "      <td>-0.039593</td>\n",
       "      <td>0.022195</td>\n",
       "      <td>-0.749888</td>\n",
       "      <td>0.470151</td>\n",
       "      <td>-0.156594</td>\n",
       "      <td>-0.576271</td>\n",
       "      <td>-0.604602</td>\n",
       "      <td>-0.698530</td>\n",
       "    </tr>\n",
       "    <tr>\n",
       "      <th>OILB</th>\n",
       "      <td>-0.018939</td>\n",
       "      <td>1.000000</td>\n",
       "      <td>0.965134</td>\n",
       "      <td>-0.232656</td>\n",
       "      <td>0.283127</td>\n",
       "      <td>0.367791</td>\n",
       "      <td>0.086369</td>\n",
       "      <td>0.434863</td>\n",
       "      <td>0.016506</td>\n",
       "      <td>0.068158</td>\n",
       "    </tr>\n",
       "    <tr>\n",
       "      <th>OILT</th>\n",
       "      <td>-0.039593</td>\n",
       "      <td>0.965134</td>\n",
       "      <td>1.000000</td>\n",
       "      <td>-0.273274</td>\n",
       "      <td>0.339481</td>\n",
       "      <td>0.243139</td>\n",
       "      <td>0.031441</td>\n",
       "      <td>0.463078</td>\n",
       "      <td>-0.017393</td>\n",
       "      <td>0.036701</td>\n",
       "    </tr>\n",
       "    <tr>\n",
       "      <th>GBP/EURO</th>\n",
       "      <td>0.022195</td>\n",
       "      <td>-0.232656</td>\n",
       "      <td>-0.273274</td>\n",
       "      <td>1.000000</td>\n",
       "      <td>0.107319</td>\n",
       "      <td>-0.250482</td>\n",
       "      <td>-0.149109</td>\n",
       "      <td>0.330335</td>\n",
       "      <td>-0.232358</td>\n",
       "      <td>-0.208115</td>\n",
       "    </tr>\n",
       "    <tr>\n",
       "      <th>GBP/CNY</th>\n",
       "      <td>-0.749888</td>\n",
       "      <td>0.283127</td>\n",
       "      <td>0.339481</td>\n",
       "      <td>0.107319</td>\n",
       "      <td>1.000000</td>\n",
       "      <td>-0.553764</td>\n",
       "      <td>0.055728</td>\n",
       "      <td>0.890155</td>\n",
       "      <td>0.262119</td>\n",
       "      <td>0.377552</td>\n",
       "    </tr>\n",
       "    <tr>\n",
       "      <th>GOLD</th>\n",
       "      <td>0.470151</td>\n",
       "      <td>0.367791</td>\n",
       "      <td>0.243139</td>\n",
       "      <td>-0.250482</td>\n",
       "      <td>-0.553764</td>\n",
       "      <td>1.000000</td>\n",
       "      <td>0.049545</td>\n",
       "      <td>-0.477219</td>\n",
       "      <td>-0.174608</td>\n",
       "      <td>-0.179125</td>\n",
       "    </tr>\n",
       "    <tr>\n",
       "      <th>SONIA</th>\n",
       "      <td>-0.156594</td>\n",
       "      <td>0.086369</td>\n",
       "      <td>0.031441</td>\n",
       "      <td>-0.149109</td>\n",
       "      <td>0.055728</td>\n",
       "      <td>0.049545</td>\n",
       "      <td>1.000000</td>\n",
       "      <td>-0.050722</td>\n",
       "      <td>0.686952</td>\n",
       "      <td>0.608111</td>\n",
       "    </tr>\n",
       "    <tr>\n",
       "      <th>GBP/USD</th>\n",
       "      <td>-0.576271</td>\n",
       "      <td>0.434863</td>\n",
       "      <td>0.463078</td>\n",
       "      <td>0.330335</td>\n",
       "      <td>0.890155</td>\n",
       "      <td>-0.477219</td>\n",
       "      <td>-0.050722</td>\n",
       "      <td>1.000000</td>\n",
       "      <td>0.102088</td>\n",
       "      <td>0.198267</td>\n",
       "    </tr>\n",
       "    <tr>\n",
       "      <th>3LIBOR</th>\n",
       "      <td>-0.604602</td>\n",
       "      <td>0.016506</td>\n",
       "      <td>-0.017393</td>\n",
       "      <td>-0.232358</td>\n",
       "      <td>0.262119</td>\n",
       "      <td>-0.174608</td>\n",
       "      <td>0.686952</td>\n",
       "      <td>0.102088</td>\n",
       "      <td>1.000000</td>\n",
       "      <td>0.976496</td>\n",
       "    </tr>\n",
       "    <tr>\n",
       "      <th>6LIBOR</th>\n",
       "      <td>-0.698530</td>\n",
       "      <td>0.068158</td>\n",
       "      <td>0.036701</td>\n",
       "      <td>-0.208115</td>\n",
       "      <td>0.377552</td>\n",
       "      <td>-0.179125</td>\n",
       "      <td>0.608111</td>\n",
       "      <td>0.198267</td>\n",
       "      <td>0.976496</td>\n",
       "      <td>1.000000</td>\n",
       "    </tr>\n",
       "  </tbody>\n",
       "</table>\n",
       "</div>"
      ],
      "text/plain": [
       "          FTSE 100      OILB      OILT  GBP/EURO   GBP/CNY      GOLD  \\\n",
       "FTSE 100  1.000000 -0.018939 -0.039593  0.022195 -0.749888  0.470151   \n",
       "OILB     -0.018939  1.000000  0.965134 -0.232656  0.283127  0.367791   \n",
       "OILT     -0.039593  0.965134  1.000000 -0.273274  0.339481  0.243139   \n",
       "GBP/EURO  0.022195 -0.232656 -0.273274  1.000000  0.107319 -0.250482   \n",
       "GBP/CNY  -0.749888  0.283127  0.339481  0.107319  1.000000 -0.553764   \n",
       "GOLD      0.470151  0.367791  0.243139 -0.250482 -0.553764  1.000000   \n",
       "SONIA    -0.156594  0.086369  0.031441 -0.149109  0.055728  0.049545   \n",
       "GBP/USD  -0.576271  0.434863  0.463078  0.330335  0.890155 -0.477219   \n",
       "3LIBOR   -0.604602  0.016506 -0.017393 -0.232358  0.262119 -0.174608   \n",
       "6LIBOR   -0.698530  0.068158  0.036701 -0.208115  0.377552 -0.179125   \n",
       "\n",
       "             SONIA   GBP/USD    3LIBOR    6LIBOR  \n",
       "FTSE 100 -0.156594 -0.576271 -0.604602 -0.698530  \n",
       "OILB      0.086369  0.434863  0.016506  0.068158  \n",
       "OILT      0.031441  0.463078 -0.017393  0.036701  \n",
       "GBP/EURO -0.149109  0.330335 -0.232358 -0.208115  \n",
       "GBP/CNY   0.055728  0.890155  0.262119  0.377552  \n",
       "GOLD      0.049545 -0.477219 -0.174608 -0.179125  \n",
       "SONIA     1.000000 -0.050722  0.686952  0.608111  \n",
       "GBP/USD  -0.050722  1.000000  0.102088  0.198267  \n",
       "3LIBOR    0.686952  0.102088  1.000000  0.976496  \n",
       "6LIBOR    0.608111  0.198267  0.976496  1.000000  "
      ]
     },
     "execution_count": 27,
     "metadata": {},
     "output_type": "execute_result"
    }
   ],
   "source": [
    "#first step check correlation between FTSE100 and inputs and remove inputs with weak correlation\n",
    "corr=data.corr()\n",
    "corr"
   ]
  },
  {
   "cell_type": "code",
   "execution_count": 28,
   "metadata": {},
   "outputs": [
    {
     "data": {
      "text/plain": [
       "FTSE 100    1.000000\n",
       "GOLD        0.470151\n",
       "GBP/EURO    0.022195\n",
       "OILB       -0.018939\n",
       "OILT       -0.039593\n",
       "SONIA      -0.156594\n",
       "GBP/USD    -0.576271\n",
       "3LIBOR     -0.604602\n",
       "6LIBOR     -0.698530\n",
       "GBP/CNY    -0.749888\n",
       "Name: FTSE 100, dtype: float64"
      ]
     },
     "execution_count": 28,
     "metadata": {},
     "output_type": "execute_result"
    }
   ],
   "source": [
    "# sort correlation\n",
    "corr['FTSE 100'].sort_values(ascending=False)"
   ]
  },
  {
   "cell_type": "code",
   "execution_count": 29,
   "metadata": {},
   "outputs": [
    {
     "data": {
      "text/html": [
       "<div>\n",
       "<style scoped>\n",
       "    .dataframe tbody tr th:only-of-type {\n",
       "        vertical-align: middle;\n",
       "    }\n",
       "\n",
       "    .dataframe tbody tr th {\n",
       "        vertical-align: top;\n",
       "    }\n",
       "\n",
       "    .dataframe thead th {\n",
       "        text-align: right;\n",
       "    }\n",
       "</style>\n",
       "<table border=\"1\" class=\"dataframe\">\n",
       "  <thead>\n",
       "    <tr style=\"text-align: right;\">\n",
       "      <th></th>\n",
       "      <th>FTSE 100</th>\n",
       "      <th>GBP/CNY</th>\n",
       "      <th>GOLD</th>\n",
       "      <th>GBP/USD</th>\n",
       "      <th>3LIBOR</th>\n",
       "      <th>6LIBOR</th>\n",
       "    </tr>\n",
       "    <tr>\n",
       "      <th>Date</th>\n",
       "      <th></th>\n",
       "      <th></th>\n",
       "      <th></th>\n",
       "      <th></th>\n",
       "      <th></th>\n",
       "      <th></th>\n",
       "    </tr>\n",
       "  </thead>\n",
       "  <tbody>\n",
       "    <tr>\n",
       "      <th>2009-01-02</th>\n",
       "      <td>4561.8</td>\n",
       "      <td>9.8940</td>\n",
       "      <td>599.7796</td>\n",
       "      <td>1.4502</td>\n",
       "      <td>2.7050</td>\n",
       "      <td>2.90</td>\n",
       "    </tr>\n",
       "    <tr>\n",
       "      <th>2009-01-05</th>\n",
       "      <td>4579.6</td>\n",
       "      <td>9.9493</td>\n",
       "      <td>590.3900</td>\n",
       "      <td>1.4567</td>\n",
       "      <td>2.6475</td>\n",
       "      <td>2.85</td>\n",
       "    </tr>\n",
       "    <tr>\n",
       "      <th>2009-01-06</th>\n",
       "      <td>4638.9</td>\n",
       "      <td>10.0393</td>\n",
       "      <td>574.6796</td>\n",
       "      <td>1.4686</td>\n",
       "      <td>2.6138</td>\n",
       "      <td>2.82</td>\n",
       "    </tr>\n",
       "  </tbody>\n",
       "</table>\n",
       "</div>"
      ],
      "text/plain": [
       "            FTSE 100  GBP/CNY      GOLD  GBP/USD  3LIBOR  6LIBOR\n",
       "Date                                                            \n",
       "2009-01-02    4561.8   9.8940  599.7796   1.4502  2.7050    2.90\n",
       "2009-01-05    4579.6   9.9493  590.3900   1.4567  2.6475    2.85\n",
       "2009-01-06    4638.9  10.0393  574.6796   1.4686  2.6138    2.82"
      ]
     },
     "execution_count": 29,
     "metadata": {},
     "output_type": "execute_result"
    }
   ],
   "source": [
    "# removing inputs with weak correlation\n",
    "data.drop(['GBP/EURO','OILT','OILB','SONIA'],axis=1,inplace=True)\n",
    "data.head(3)"
   ]
  },
  {
   "cell_type": "code",
   "execution_count": 30,
   "metadata": {},
   "outputs": [],
   "source": [
    "# removing missing data \n",
    "data.dropna(inplace=True)"
   ]
  },
  {
   "cell_type": "code",
   "execution_count": 31,
   "metadata": {},
   "outputs": [
    {
     "name": "stderr",
     "output_type": "stream",
     "text": [
      "C:\\Users\\sahar\\anaconda3\\envs\\tensorflow_env\\lib\\site-packages\\ipykernel_launcher.py:10: SettingWithCopyWarning: \n",
      "A value is trying to be set on a copy of a slice from a DataFrame\n",
      "\n",
      "See the caveats in the documentation: https://pandas.pydata.org/pandas-docs/stable/user_guide/indexing.html#returning-a-view-versus-a-copy\n",
      "  # Remove the CWD from sys.path while we load stuff.\n",
      "C:\\Users\\sahar\\anaconda3\\envs\\tensorflow_env\\lib\\site-packages\\ipykernel_launcher.py:12: SettingWithCopyWarning: \n",
      "A value is trying to be set on a copy of a slice from a DataFrame\n",
      "\n",
      "See the caveats in the documentation: https://pandas.pydata.org/pandas-docs/stable/user_guide/indexing.html#returning-a-view-versus-a-copy\n",
      "  if sys.path[0] == '':\n"
     ]
    }
   ],
   "source": [
    "# categorize FTSE 100 into two category , 0 for downward trend and 1 for upward trend,using MACD indicator for categorizing \n",
    "mean_12=data['FTSE 100'].rolling(window=12).mean()\n",
    "mean_26=data['FTSE 100'].rolling(window=26).mean()\n",
    "mean_12=mean_12.iloc[27:]\n",
    "mean_26=mean_26.iloc[27:]\n",
    "data=data.iloc[27:,:]\n",
    "data['target']=0\n",
    "for i in range(len(mean_12)):\n",
    "    if mean_12.iloc[i]<mean_26.iloc[i]:\n",
    "        data['target'][i]=0\n",
    "    else:\n",
    "        data['target'][i]=1\n",
    "        "
   ]
  },
  {
   "cell_type": "code",
   "execution_count": 32,
   "metadata": {},
   "outputs": [
    {
     "data": {
      "text/html": [
       "<div>\n",
       "<style scoped>\n",
       "    .dataframe tbody tr th:only-of-type {\n",
       "        vertical-align: middle;\n",
       "    }\n",
       "\n",
       "    .dataframe tbody tr th {\n",
       "        vertical-align: top;\n",
       "    }\n",
       "\n",
       "    .dataframe thead th {\n",
       "        text-align: right;\n",
       "    }\n",
       "</style>\n",
       "<table border=\"1\" class=\"dataframe\">\n",
       "  <thead>\n",
       "    <tr style=\"text-align: right;\">\n",
       "      <th></th>\n",
       "      <th>GBP/CNY</th>\n",
       "      <th>GOLD</th>\n",
       "      <th>GBP/USD</th>\n",
       "      <th>3LIBOR</th>\n",
       "      <th>6LIBOR</th>\n",
       "      <th>target</th>\n",
       "    </tr>\n",
       "    <tr>\n",
       "      <th>Date</th>\n",
       "      <th></th>\n",
       "      <th></th>\n",
       "      <th></th>\n",
       "      <th></th>\n",
       "      <th></th>\n",
       "      <th></th>\n",
       "    </tr>\n",
       "  </thead>\n",
       "  <tbody>\n",
       "    <tr>\n",
       "      <th>2009-02-11</th>\n",
       "      <td>9.8070</td>\n",
       "      <td>642.4496</td>\n",
       "      <td>1.4352</td>\n",
       "      <td>2.0819</td>\n",
       "      <td>2.25</td>\n",
       "      <td>0</td>\n",
       "    </tr>\n",
       "    <tr>\n",
       "      <th>2009-02-12</th>\n",
       "      <td>9.7378</td>\n",
       "      <td>662.5936</td>\n",
       "      <td>1.4248</td>\n",
       "      <td>2.0700</td>\n",
       "      <td>2.24</td>\n",
       "      <td>0</td>\n",
       "    </tr>\n",
       "    <tr>\n",
       "      <th>2009-02-13</th>\n",
       "      <td>9.8717</td>\n",
       "      <td>650.7124</td>\n",
       "      <td>1.4434</td>\n",
       "      <td>2.0669</td>\n",
       "      <td>2.23</td>\n",
       "      <td>0</td>\n",
       "    </tr>\n",
       "  </tbody>\n",
       "</table>\n",
       "</div>"
      ],
      "text/plain": [
       "            GBP/CNY      GOLD  GBP/USD  3LIBOR  6LIBOR  target\n",
       "Date                                                          \n",
       "2009-02-11   9.8070  642.4496   1.4352  2.0819    2.25       0\n",
       "2009-02-12   9.7378  662.5936   1.4248  2.0700    2.24       0\n",
       "2009-02-13   9.8717  650.7124   1.4434  2.0669    2.23       0"
      ]
     },
     "execution_count": 32,
     "metadata": {},
     "output_type": "execute_result"
    }
   ],
   "source": [
    "# removing FTSE100 price,we don't need it anymore\n",
    "data=data.iloc[:,1:]\n",
    "data.head(3)"
   ]
  },
  {
   "cell_type": "code",
   "execution_count": 33,
   "metadata": {},
   "outputs": [],
   "source": [
    "# define the X and y , there are 5 inputs and 1 output\n",
    "X=data.iloc[:,:5]\n",
    "y=data.iloc[:,5]"
   ]
  },
  {
   "cell_type": "code",
   "execution_count": 34,
   "metadata": {},
   "outputs": [
    {
     "data": {
      "text/html": [
       "<div>\n",
       "<style scoped>\n",
       "    .dataframe tbody tr th:only-of-type {\n",
       "        vertical-align: middle;\n",
       "    }\n",
       "\n",
       "    .dataframe tbody tr th {\n",
       "        vertical-align: top;\n",
       "    }\n",
       "\n",
       "    .dataframe thead th {\n",
       "        text-align: right;\n",
       "    }\n",
       "</style>\n",
       "<table border=\"1\" class=\"dataframe\">\n",
       "  <thead>\n",
       "    <tr style=\"text-align: right;\">\n",
       "      <th></th>\n",
       "      <th>GBP/CNY</th>\n",
       "      <th>GOLD</th>\n",
       "      <th>GBP/USD</th>\n",
       "      <th>3LIBOR</th>\n",
       "      <th>6LIBOR</th>\n",
       "    </tr>\n",
       "    <tr>\n",
       "      <th>Date</th>\n",
       "      <th></th>\n",
       "      <th></th>\n",
       "      <th></th>\n",
       "      <th></th>\n",
       "      <th></th>\n",
       "    </tr>\n",
       "  </thead>\n",
       "  <tbody>\n",
       "    <tr>\n",
       "      <th>2009-02-11</th>\n",
       "      <td>9.8070</td>\n",
       "      <td>642.4496</td>\n",
       "      <td>1.4352</td>\n",
       "      <td>2.0819</td>\n",
       "      <td>2.25</td>\n",
       "    </tr>\n",
       "    <tr>\n",
       "      <th>2009-02-12</th>\n",
       "      <td>9.7378</td>\n",
       "      <td>662.5936</td>\n",
       "      <td>1.4248</td>\n",
       "      <td>2.0700</td>\n",
       "      <td>2.24</td>\n",
       "    </tr>\n",
       "    <tr>\n",
       "      <th>2009-02-13</th>\n",
       "      <td>9.8717</td>\n",
       "      <td>650.7124</td>\n",
       "      <td>1.4434</td>\n",
       "      <td>2.0669</td>\n",
       "      <td>2.23</td>\n",
       "    </tr>\n",
       "  </tbody>\n",
       "</table>\n",
       "</div>"
      ],
      "text/plain": [
       "            GBP/CNY      GOLD  GBP/USD  3LIBOR  6LIBOR\n",
       "Date                                                  \n",
       "2009-02-11   9.8070  642.4496   1.4352  2.0819    2.25\n",
       "2009-02-12   9.7378  662.5936   1.4248  2.0700    2.24\n",
       "2009-02-13   9.8717  650.7124   1.4434  2.0669    2.23"
      ]
     },
     "execution_count": 34,
     "metadata": {},
     "output_type": "execute_result"
    }
   ],
   "source": [
    "X.head(3)"
   ]
  },
  {
   "cell_type": "code",
   "execution_count": 35,
   "metadata": {},
   "outputs": [],
   "source": [
    "# split data into 80% train and 20% test\n",
    "from sklearn.model_selection import train_test_split\n",
    "X_train, X_test, y_train, y_test = train_test_split(X, y, test_size = 0.2,random_state=42)"
   ]
  },
  {
   "cell_type": "code",
   "execution_count": 36,
   "metadata": {},
   "outputs": [
    {
     "data": {
      "text/plain": [
       "1    1182\n",
       "0     968\n",
       "Name: target, dtype: int64"
      ]
     },
     "execution_count": 36,
     "metadata": {},
     "output_type": "execute_result"
    }
   ],
   "source": [
    "# distribution of categories in train set\n",
    "y_train.value_counts()"
   ]
  },
  {
   "cell_type": "code",
   "execution_count": 37,
   "metadata": {},
   "outputs": [
    {
     "data": {
      "text/plain": [
       "1    305\n",
       "0    233\n",
       "Name: target, dtype: int64"
      ]
     },
     "execution_count": 37,
     "metadata": {},
     "output_type": "execute_result"
    }
   ],
   "source": [
    "# distribution of categories in test set\n",
    "y_test.value_counts()"
   ]
  },
  {
   "cell_type": "code",
   "execution_count": 38,
   "metadata": {},
   "outputs": [],
   "source": [
    "# standardize the input \n",
    "from sklearn.preprocessing import StandardScaler\n",
    "sc=StandardScaler()\n",
    "X_train=sc.fit_transform(X_train)\n",
    "X_test=sc.transform(X_test)"
   ]
  },
  {
   "cell_type": "code",
   "execution_count": 39,
   "metadata": {},
   "outputs": [
    {
     "data": {
      "text/plain": [
       "array([[ 1.18921879,  0.82295801,  1.12015486,  0.58168845,  0.8888369 ],\n",
       "       [-1.35856029,  0.68832169, -1.62553533, -1.2787983 , -1.14735543],\n",
       "       [ 0.20386513, -0.81046742,  0.85293785, -0.4819876 , -0.55620281],\n",
       "       ...,\n",
       "       [ 0.06851725, -0.46830776,  0.73488165, -0.61788073, -0.85177912],\n",
       "       [ 1.0463662 , -0.80200797,  1.37959572, -0.58608401, -0.68757006],\n",
       "       [ 0.40412207,  0.88964959,  0.59066929,  0.12820664,  0.39620973]])"
      ]
     },
     "execution_count": 39,
     "metadata": {},
     "output_type": "execute_result"
    }
   ],
   "source": [
    "X_train"
   ]
  },
  {
   "cell_type": "code",
   "execution_count": 40,
   "metadata": {},
   "outputs": [],
   "source": [
    "# fixing the data to don't change  everytime run the code\n",
    "tf.random.set_seed(42)"
   ]
  },
  {
   "cell_type": "markdown",
   "metadata": {},
   "source": [
    "# Vanila neural network"
   ]
  },
  {
   "cell_type": "code",
   "execution_count": 41,
   "metadata": {},
   "outputs": [],
   "source": [
    "# define a vanila model with just one hidden layer and one dropout layer for avoiding overfitting and hinge loss function and adam optimizer\n",
    "def build_model(neuron=10,activation='tanh'):\n",
    "    model=tf.keras.models.Sequential()\n",
    "    model.add(tf.keras.layers.Dense(neuron,input_dim=5,activation=activation,kernel_initializer='normal'))\n",
    "    model.add(tf.keras.layers.Dropout(0.5))\n",
    "    model.add(tf.keras.layers.Dense(1, activation='sigmoid',kernel_initializer='normal'))\n",
    "    opt=tf.keras.optimizers.Adam(lr=0.001)\n",
    "    model.compile(loss='hinge', optimizer=opt, metrics=['accuracy'])\n",
    "    return model"
   ]
  },
  {
   "cell_type": "code",
   "execution_count": 42,
   "metadata": {},
   "outputs": [],
   "source": [
    "# using different range of  hidden layer neurons and activation function for hyperparameter tuning \n",
    "model = tf.keras.wrappers.scikit_learn.KerasClassifier(build_fn=build_model,epochs=200,batch_size=10,verbose=0)\n",
    "from sklearn.model_selection import GridSearchCV\n",
    "neuron=[10,15,20,25]\n",
    "activation=['relu','tanh']\n",
    "param_grid = dict(neuron=neuron,activation=activation)\n",
    "grid = GridSearchCV(estimator=model, param_grid=param_grid, cv=3)\n",
    "grid_result = grid.fit(X_train, y_train,validation_data=[X_test,y_test])"
   ]
  },
  {
   "cell_type": "code",
   "execution_count": 43,
   "metadata": {},
   "outputs": [
    {
     "data": {
      "text/plain": [
       "{'activation': 'relu', 'neuron': 15}"
      ]
     },
     "execution_count": 43,
     "metadata": {},
     "output_type": "execute_result"
    }
   ],
   "source": [
    "grid_result.best_params_"
   ]
  },
  {
   "cell_type": "code",
   "execution_count": 44,
   "metadata": {},
   "outputs": [
    {
     "data": {
      "text/plain": [
       "0.609778086344401"
      ]
     },
     "execution_count": 44,
     "metadata": {},
     "output_type": "execute_result"
    }
   ],
   "source": [
    "grid_result.best_score_"
   ]
  },
  {
   "cell_type": "code",
   "execution_count": 45,
   "metadata": {},
   "outputs": [],
   "source": [
    "# use best parameter from hyperparameter tuning  to build the model and also check the best learning rate \n",
    "model=tf.keras.models.Sequential()\n",
    "model.add(tf.keras.layers.Dense(grid_result.best_params_['neuron'],input_dim=5,activation=grid_result.best_params_['activation'],kernel_initializer='normal'))\n",
    "model.add(tf.keras.layers.Dropout(0.5))\n",
    "model.add(tf.keras.layers.Dense(1, activation='sigmoid',kernel_initializer='normal'))\n",
    "opt=tf.keras.optimizers.Adam(lr=0.001)\n",
    "lr_schedule = tf.keras.callbacks.LearningRateScheduler(\n",
    "    lambda epoch: 1e-4 * 10**(epoch / 20))\n",
    "model.compile(loss='hinge', optimizer=opt, metrics=['accuracy'])"
   ]
  },
  {
   "cell_type": "code",
   "execution_count": 46,
   "metadata": {},
   "outputs": [],
   "source": [
    "history=model.fit(X_train, y_train,validation_data=[X_test,y_test], epochs=200,batch_size=10,verbose=0,callbacks=[lr_schedule])"
   ]
  },
  {
   "cell_type": "code",
   "execution_count": 53,
   "metadata": {},
   "outputs": [
    {
     "data": {
      "text/plain": [
       "(0.0001, 10.0, 0.8, 1.0)"
      ]
     },
     "execution_count": 53,
     "metadata": {},
     "output_type": "execute_result"
    },
    {
     "data": {
      "image/png": "[encoded data removed]",
      "text/plain": [
       "<Figure size 432x288 with 1 Axes>"
      ]
     },
     "metadata": {
      "needs_background": "light"
     },
     "output_type": "display_data"
    }
   ],
   "source": [
    "# the best learning rate will be the minimum of the figure\n",
    "plt.semilogx(history.history[\"lr\"], history.history[\"loss\"])\n",
    "plt.axis([1e-4, 10, 0.8, 1])"
   ]
  },
  {
   "cell_type": "code",
   "execution_count": 54,
   "metadata": {},
   "outputs": [],
   "source": [
    "model=tf.keras.models.Sequential()\n",
    "model.add(tf.keras.layers.Dense(grid_result.best_params_['neuron'],input_dim=5,activation=grid_result.best_params_['activation'],kernel_initializer='normal'))\n",
    "model.add(tf.keras.layers.Dropout(0.5))\n",
    "model.add(tf.keras.layers.Dense(1, activation='sigmoid',kernel_initializer='normal'))\n",
    "opt=tf.keras.optimizers.Adam(lr=0.001)\n",
    "model.compile(loss='hinge', optimizer=opt, metrics=['accuracy'])"
   ]
  },
  {
   "cell_type": "code",
   "execution_count": 55,
   "metadata": {},
   "outputs": [],
   "source": [
    "history=model.fit(X_train, y_train,validation_data=[X_test,y_test], epochs=200,batch_size=10,verbose=0)"
   ]
  },
  {
   "cell_type": "code",
   "execution_count": 56,
   "metadata": {},
   "outputs": [
    {
     "data": {
      "image/png": "[encoded data removed]",
      "text/plain": [
       "<Figure size 1152x576 with 1 Axes>"
      ]
     },
     "metadata": {
      "needs_background": "light"
     },
     "output_type": "display_data"
    },
    {
     "data": {
      "image/png": "[encoded data removed]",
      "text/plain": [
       "<Figure size 1152x576 with 1 Axes>"
      ]
     },
     "metadata": {
      "needs_background": "light"
     },
     "output_type": "display_data"
    }
   ],
   "source": [
    "def plot_loss_acc():\n",
    "    plt.figure(figsize=(16,8))\n",
    "    plt.plot(history.history['loss'])\n",
    "    plt.plot(history.history['val_loss'])\n",
    "    plt.xlabel('epochs',fontsize=18)\n",
    "    plt.ylabel('val_loss',fontsize=18)\n",
    "    plt.title('model_loss',fontsize=18)\n",
    "    plt.legend(['Train', 'Test'], loc='upper left')\n",
    "    plt.show()\n",
    "    \n",
    "    plt.figure(figsize=(16,8))\n",
    "    plt.plot(history.history['accuracy'])\n",
    "    plt.plot(history.history['val_accuracy'])\n",
    "    plt.title('model Accuracy')\n",
    "    plt.ylabel('val_acc')\n",
    "    plt.xlabel('epoch')\n",
    "    plt.legend(['train','test'], loc='upper left')\n",
    "    plt.show() \n",
    "plot_loss_acc()"
   ]
  },
  {
   "cell_type": "code",
   "execution_count": 57,
   "metadata": {},
   "outputs": [
    {
     "name": "stdout",
     "output_type": "stream",
     "text": [
      "2150/2150 [==============================] - 0s 107us/sample - loss: 0.8340 - accuracy: 0.6205\n"
     ]
    },
    {
     "data": {
      "text/plain": [
       "[0.8339778042394062, 0.6204651]"
      ]
     },
     "execution_count": 57,
     "metadata": {},
     "output_type": "execute_result"
    }
   ],
   "source": [
    "train_acc = model.evaluate(X_train, y_train)\n",
    "train_acc"
   ]
  },
  {
   "cell_type": "code",
   "execution_count": 58,
   "metadata": {},
   "outputs": [
    {
     "name": "stdout",
     "output_type": "stream",
     "text": [
      "538/538 [==============================] - 0s 148us/sample - loss: 0.8308 - accuracy: 0.6041\n"
     ]
    },
    {
     "data": {
      "text/plain": [
       "[0.8307580985544339, 0.6040892]"
      ]
     },
     "execution_count": 58,
     "metadata": {},
     "output_type": "execute_result"
    }
   ],
   "source": [
    "test_acc = model.evaluate(X_test, y_test)\n",
    "test_acc"
   ]
  },
  {
   "cell_type": "code",
   "execution_count": 59,
   "metadata": {},
   "outputs": [
    {
     "name": "stdout",
     "output_type": "stream",
     "text": [
      "              precision    recall  f1-score   support\n",
      "\n",
      "           0       0.66      0.18      0.28       233\n",
      "           1       0.60      0.93      0.73       305\n",
      "\n",
      "    accuracy                           0.60       538\n",
      "   macro avg       0.63      0.55      0.50       538\n",
      "weighted avg       0.62      0.60      0.53       538\n",
      "\n"
     ]
    }
   ],
   "source": [
    "from sklearn.metrics import classification_report\n",
    "y_pred=model.predict_classes(X_test)\n",
    "print(classification_report(y_test, y_pred))"
   ]
  },
  {
   "cell_type": "code",
   "execution_count": null,
   "metadata": {},
   "outputs": [],
   "source": []
  }
 ],
 "metadata": {
  "kernelspec": {
   "display_name": "Python 3",
   "language": "python",
   "name": "python3"
  },
  "language_info": {
   "codemirror_mode": {
    "name": "ipython",
    "version": 3
   },
   "file_extension": ".py",
   "mimetype": "text/x-python",
   "name": "python",
   "nbconvert_exporter": "python",
   "pygments_lexer": "ipython3",
   "version": "3.7.7"
  }
 },
 "nbformat": 4,
 "nbformat_minor": 4
}
